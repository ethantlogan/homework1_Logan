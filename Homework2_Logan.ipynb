{
  "nbformat": 4,
  "nbformat_minor": 0,
  "metadata": {
    "colab": {
      "provenance": [],
      "authorship_tag": "ABX9TyOlm0qnebDAOfr1uorijBOU",
      "include_colab_link": true
    },
    "kernelspec": {
      "name": "python3",
      "display_name": "Python 3"
    },
    "language_info": {
      "name": "python"
    }
  },
  "cells": [
    {
      "cell_type": "markdown",
      "metadata": {
        "id": "view-in-github",
        "colab_type": "text"
      },
      "source": [
        "<a href=\"https://colab.research.google.com/github/ethantlogan/homework1_Logan/blob/master/Homework2_Logan.ipynb\" target=\"_parent\"><img src=\"https://colab.research.google.com/assets/colab-badge.svg\" alt=\"Open In Colab\"/></a>"
      ]
    },
    {
      "cell_type": "code",
      "execution_count": 7,
      "metadata": {
        "colab": {
          "base_uri": "https://localhost:8080/"
        },
        "id": "3iXdmVnfVfVR",
        "outputId": "590f481d-bf90-45d2-cdb8-ba4020ce0fc2"
      },
      "outputs": [
        {
          "output_type": "stream",
          "name": "stdout",
          "text": [
            "List in random order\n",
            "[14, 19, 66, 43, 42, 15, 61, 4, 38, 53, 86, 84, 48, 59, 27, 90, 3, 68, 34, 58, 26, 97, 18, 94, 47, 62, 32, 10, 70, 6, 69, 39, 41, 49, 81, 1, 85, 51, 29, 77, 24, 5, 71, 37, 8, 54, 83, 2, 21, 74]\n",
            "List in ascending order\n",
            "[1, 2, 3, 4, 5, 6, 8, 10, 14, 15, 18, 19, 21, 24, 26, 27, 29, 32, 34, 37, 38, 39, 41, 42, 43, 47, 48, 49, 51, 53, 54, 58, 59, 61, 62, 66, 68, 69, 70, 71, 74, 77, 81, 83, 84, 85, 86, 90, 94, 97]\n"
          ]
        }
      ],
      "source": [
        "import random\n",
        "random.seed()\n",
        "\n",
        "#making a randome sample list of 50 integers between 1-100\n",
        "\n",
        "L = random.sample(range(1, 101), 50)\n",
        "\n",
        "#Defining the variable to be able to run later with the list of integers\n",
        "\n",
        "def bubble_sort(arr):\n",
        "\n",
        "  #Making i follow the number of integers in the array being sorted\n",
        "\n",
        "  for i in range(len(arr)):\n",
        "\n",
        "    #Making j start at the first integer by subtracting the total\n",
        "    #number of integers i still has to run through and by 1 to\n",
        "    #make it so the first number on the list is started with to\n",
        "    #make sure the whole list is sorted\n",
        "\n",
        "    for j in range(0, len(arr) - i - 1):\n",
        "\n",
        "      #Saying that if the current integer being looked at is biggen than\n",
        "      #the next integer, do the following command\n",
        "\n",
        "      if arr[j] > arr[j + 1]:\n",
        "\n",
        "        #Following command temporarily causes the first integer to be\n",
        "        #defined as a different variable for a little, to then switch\n",
        "        #the two elements of the list and place the larger integer\n",
        "        #in front of the smaller one\n",
        "\n",
        "        temp = arr[j]\n",
        "        arr[j] = arr[j + 1]\n",
        "        arr[j + 1] = temp\n",
        "\n",
        "  return(arr)\n",
        "\n",
        "\n",
        "print('List in random order')\n",
        "print(L)\n",
        "\n",
        "#Running the sorting mechanism with the list of integers as the input\n",
        "bubble_sort(L)\n",
        "\n",
        "print('List in ascending order')\n",
        "print(L)"
      ]
    },
    {
      "cell_type": "code",
      "source": [
        "import random\n",
        "random.seed()\n",
        "\n",
        "#Making a list of 50 random integers between 1-100\n",
        "\n",
        "L = random.sample(range(1, 101), 50)\n",
        "\n",
        "def insertion_sort(list_a):\n",
        "\n",
        "  #Defining the variable to be able to input a list\n",
        "  index_length = range(1, len(list_a))\n",
        "\n",
        "  #Defining a new variable to be the length of the list inserted\n",
        "\n",
        "  for i in index_length:\n",
        "\n",
        "    #Using i to run through the length of the list of integers\n",
        "\n",
        "    sort = list_a[i]\n",
        "\n",
        "    #Defining sort so the values are taken 1 by 1 to the for loop to be sorted\n",
        "\n",
        "    while list_a[i -1] > sort and i>0:\n",
        "\n",
        "      #Using a while loop to run a switch if the value to the left of the\n",
        "      #list_a value is greater than the current value being looked at by the\n",
        "      #i index in list_a\n",
        "\n",
        "      list_a[i], list_a[i - 1] = list_a[i - 1], list_a[i]\n",
        "\n",
        "       #Code to switch the values\n",
        "\n",
        "      i = i - 1\n",
        "\n",
        "      #this makes it so the new integer being looked at moves down the list\n",
        "      #of integers\n",
        "\n",
        "  return list_a\n",
        "\n",
        "  #this provides a stop to the code and a value is assigned to the function\n",
        "\n",
        "print('Unsorted list')\n",
        "print(L)\n",
        "print('Sorted list')\n",
        "print(insertion_sort(L))"
      ],
      "metadata": {
        "colab": {
          "base_uri": "https://localhost:8080/"
        },
        "id": "XcJAQpiKWFWR",
        "outputId": "072fa4c1-eb91-46b2-fdb6-d35d27c8984f"
      },
      "execution_count": 2,
      "outputs": [
        {
          "output_type": "stream",
          "name": "stdout",
          "text": [
            "Unsorted list\n",
            "[7, 45, 86, 93, 16, 66, 47, 32, 91, 71, 6, 17, 21, 29, 23, 20, 38, 18, 14, 26, 74, 41, 31, 60, 11, 51, 62, 92, 35, 2, 96, 12, 33, 5, 97, 79, 30, 56, 49, 22, 40, 85, 27, 58, 36, 54, 61, 43, 69, 77]\n",
            "Sorted list\n",
            "[2, 5, 6, 7, 11, 12, 14, 16, 17, 18, 20, 21, 22, 23, 26, 27, 29, 30, 31, 32, 33, 35, 36, 38, 40, 41, 43, 45, 47, 49, 51, 54, 56, 58, 60, 61, 62, 66, 69, 71, 74, 77, 79, 85, 86, 91, 92, 93, 96, 97]\n"
          ]
        }
      ]
    }
  ]
}